{
  "nbformat": 4,
  "nbformat_minor": 0,
  "metadata": {
    "colab": {
      "provenance": []
    },
    "kernelspec": {
      "name": "python3",
      "display_name": "Python 3"
    },
    "language_info": {
      "name": "python"
    }
  },
  "cells": [
    {
      "cell_type": "code",
      "source": [
        "\n",
        "score=0\n",
        "print(\"Welcome to Quiz game !!\")\n",
        "\n",
        "answer=input(\" Are you ready to play game? \")\n",
        "if answer.lower()==\"yes\":\n",
        "    #quit()\n",
        "   print(\"Okhay, Lets play Quiz game !!\")\n",
        "answer=input(\" What does CPU stand for ? \")\n",
        "if answer.lower() == \"central process unit\" :\n",
        "  print(\"Correct answer! Great job\")\n",
        "  score+=1\n",
        "else:\n",
        "  print(\"Opps! wrong ans \")\n",
        "\n",
        "answer=input(\" What does GPU stand for ?\")\n",
        "if answer.lower() == \"graphic process unit\" :\n",
        "  print(\"Correct answer! Great job\")\n",
        "  score+=1\n",
        "else:\n",
        "    print(\"Opps! wrong ans \")\n",
        "\n",
        "answer=input(\" what does RAM stand for\")\n",
        "if answer.lower() == \"random access memory\" :\n",
        "  print(\"Correct answer! Great job\")\n",
        "  score+=1\n",
        "else:\n",
        "  print(\"Opps! wrong ans \")\n",
        "\n",
        "\n",
        "answer=input(\"what does PSU stands for ?\")\n",
        "if answer.lower() == \"power supply unit\" :\n",
        "  print(\"Correct answer! Great job\")\n",
        "  score+=1\n",
        "else:\n",
        "  print(\"Opps! wrong ans \")\n",
        "\n",
        "\n",
        "print(\"You got  \" + str(score) + \"  Correct answer !!\")\n",
        "if score>5:\n",
        "   print(\" Congratulations !! ,You have  got \" + str(score/4*100) + \"%\" + \" of marks \")\n",
        "elif score <=5:\n",
        "   print(\" Better luck next time !! , You have got \" + str(score/4*100) + \"% of marks\")"
      ],
      "metadata": {
        "id": "cpl4jj0UXm8r",
        "colab": {
          "base_uri": "https://localhost:8080/"
        },
        "outputId": "0fd0a60e-04fb-4bae-bbd3-dca31b438a6a"
      },
      "execution_count": 5,
      "outputs": [
        {
          "output_type": "stream",
          "name": "stdout",
          "text": [
            "Welcome to Quiz game !!\n",
            " Are you ready to play game? yes\n",
            "Okhay, Lets play Quiz game !!\n",
            " What does CPU stand for ? dnt know\n",
            "Opps! wrong ans \n",
            " What does GPU stand for ?hbdhjb\n",
            "Opps! wrong ans \n",
            " what does RAM stand fordfd\n",
            "Opps! wrong ans \n",
            "what does PSU stands for ?fdd\n",
            "Opps! wrong ans \n",
            "You got  0  Correct answer !!\n",
            " Better luck next time !! , You have got 0.0% of marks\n"
          ]
        }
      ]
    }
  ]
}